{
 "cells": [
  {
   "cell_type": "code",
   "execution_count": 20,
   "metadata": {},
   "outputs": [],
   "source": [
    "#importing libraries\n",
    "\n",
    "import numpy as np\n",
    "import pandas as pd\n",
    "from scipy import stats\n",
    "%matplotlib inline\n",
    "import matplotlib.pyplot as plt\n",
    "plt.style.use('fivethirtyeight')\n",
    "from pandas import DatetimeIndex, Series, to_datetime\n",
    "import seaborn as sns\n",
    "from sklearn.model_selection import train_test_split\n",
    "from sklearn.linear_model import Ridge, Lasso, LinearRegression\n",
    "from sklearn.model_selection import KFold\n",
    "from sklearn.metrics import r2_score\n",
    "from sklearn.model_selection import cross_val_predict\n"
   ]
  },
  {
   "cell_type": "markdown",
   "metadata": {},
   "source": [
    "### 1) Loading the Data"
   ]
  },
  {
   "cell_type": "code",
   "execution_count": 21,
   "metadata": {},
   "outputs": [
    {
     "data": {
      "text/html": [
       "<div>\n",
       "<style scoped>\n",
       "    .dataframe tbody tr th:only-of-type {\n",
       "        vertical-align: middle;\n",
       "    }\n",
       "\n",
       "    .dataframe tbody tr th {\n",
       "        vertical-align: top;\n",
       "    }\n",
       "\n",
       "    .dataframe thead th {\n",
       "        text-align: right;\n",
       "    }\n",
       "</style>\n",
       "<table border=\"1\" class=\"dataframe\">\n",
       "  <thead>\n",
       "    <tr style=\"text-align: right;\">\n",
       "      <th></th>\n",
       "      <th>neighborhood</th>\n",
       "      <th>Month_Year</th>\n",
       "      <th>number_crimes</th>\n",
       "      <th>tractce10</th>\n",
       "      <th>VC03</th>\n",
       "      <th>VC04</th>\n",
       "      <th>VC05</th>\n",
       "      <th>VC06</th>\n",
       "      <th>VC07</th>\n",
       "      <th>VC08</th>\n",
       "      <th>...</th>\n",
       "      <th>VC206</th>\n",
       "      <th>VC207</th>\n",
       "      <th>VC208</th>\n",
       "      <th>VC209</th>\n",
       "      <th>VC210</th>\n",
       "      <th>VC211</th>\n",
       "      <th>VC212</th>\n",
       "      <th>VC216</th>\n",
       "      <th>VC217</th>\n",
       "      <th>VC218</th>\n",
       "    </tr>\n",
       "  </thead>\n",
       "  <tbody>\n",
       "    <tr>\n",
       "      <th>0</th>\n",
       "      <td>North Beach</td>\n",
       "      <td>01/2003</td>\n",
       "      <td>168</td>\n",
       "      <td>10100</td>\n",
       "      <td>2059</td>\n",
       "      <td>815</td>\n",
       "      <td>178</td>\n",
       "      <td>545</td>\n",
       "      <td>140</td>\n",
       "      <td>17</td>\n",
       "      <td>...</td>\n",
       "      <td>0</td>\n",
       "      <td>0</td>\n",
       "      <td>22</td>\n",
       "      <td>0</td>\n",
       "      <td>0</td>\n",
       "      <td>0</td>\n",
       "      <td>14</td>\n",
       "      <td>NaN</td>\n",
       "      <td>NaN</td>\n",
       "      <td>NaN</td>\n",
       "    </tr>\n",
       "    <tr>\n",
       "      <th>1</th>\n",
       "      <td>North Beach</td>\n",
       "      <td>01/2004</td>\n",
       "      <td>162</td>\n",
       "      <td>10100</td>\n",
       "      <td>2059</td>\n",
       "      <td>815</td>\n",
       "      <td>178</td>\n",
       "      <td>545</td>\n",
       "      <td>140</td>\n",
       "      <td>17</td>\n",
       "      <td>...</td>\n",
       "      <td>0</td>\n",
       "      <td>0</td>\n",
       "      <td>22</td>\n",
       "      <td>0</td>\n",
       "      <td>0</td>\n",
       "      <td>0</td>\n",
       "      <td>14</td>\n",
       "      <td>NaN</td>\n",
       "      <td>NaN</td>\n",
       "      <td>NaN</td>\n",
       "    </tr>\n",
       "    <tr>\n",
       "      <th>2</th>\n",
       "      <td>North Beach</td>\n",
       "      <td>01/2005</td>\n",
       "      <td>174</td>\n",
       "      <td>10100</td>\n",
       "      <td>2059</td>\n",
       "      <td>815</td>\n",
       "      <td>178</td>\n",
       "      <td>545</td>\n",
       "      <td>140</td>\n",
       "      <td>17</td>\n",
       "      <td>...</td>\n",
       "      <td>0</td>\n",
       "      <td>0</td>\n",
       "      <td>22</td>\n",
       "      <td>0</td>\n",
       "      <td>0</td>\n",
       "      <td>0</td>\n",
       "      <td>14</td>\n",
       "      <td>NaN</td>\n",
       "      <td>NaN</td>\n",
       "      <td>NaN</td>\n",
       "    </tr>\n",
       "    <tr>\n",
       "      <th>3</th>\n",
       "      <td>North Beach</td>\n",
       "      <td>01/2006</td>\n",
       "      <td>185</td>\n",
       "      <td>10100</td>\n",
       "      <td>2059</td>\n",
       "      <td>815</td>\n",
       "      <td>178</td>\n",
       "      <td>545</td>\n",
       "      <td>140</td>\n",
       "      <td>17</td>\n",
       "      <td>...</td>\n",
       "      <td>0</td>\n",
       "      <td>0</td>\n",
       "      <td>22</td>\n",
       "      <td>0</td>\n",
       "      <td>0</td>\n",
       "      <td>0</td>\n",
       "      <td>14</td>\n",
       "      <td>NaN</td>\n",
       "      <td>NaN</td>\n",
       "      <td>NaN</td>\n",
       "    </tr>\n",
       "    <tr>\n",
       "      <th>4</th>\n",
       "      <td>North Beach</td>\n",
       "      <td>01/2007</td>\n",
       "      <td>153</td>\n",
       "      <td>10100</td>\n",
       "      <td>2059</td>\n",
       "      <td>815</td>\n",
       "      <td>178</td>\n",
       "      <td>545</td>\n",
       "      <td>140</td>\n",
       "      <td>17</td>\n",
       "      <td>...</td>\n",
       "      <td>0</td>\n",
       "      <td>0</td>\n",
       "      <td>22</td>\n",
       "      <td>0</td>\n",
       "      <td>0</td>\n",
       "      <td>0</td>\n",
       "      <td>14</td>\n",
       "      <td>NaN</td>\n",
       "      <td>NaN</td>\n",
       "      <td>NaN</td>\n",
       "    </tr>\n",
       "  </tbody>\n",
       "</table>\n",
       "<p>5 rows × 156 columns</p>\n",
       "</div>"
      ],
      "text/plain": [
       "  neighborhood Month_Year  number_crimes  tractce10  VC03  VC04  VC05  VC06  \\\n",
       "0  North Beach    01/2003            168      10100  2059   815   178   545   \n",
       "1  North Beach    01/2004            162      10100  2059   815   178   545   \n",
       "2  North Beach    01/2005            174      10100  2059   815   178   545   \n",
       "3  North Beach    01/2006            185      10100  2059   815   178   545   \n",
       "4  North Beach    01/2007            153      10100  2059   815   178   545   \n",
       "\n",
       "   VC07  VC08  ...  VC206  VC207  VC208  VC209  VC210  VC211  VC212  VC216  \\\n",
       "0   140    17  ...      0      0     22      0      0      0     14    NaN   \n",
       "1   140    17  ...      0      0     22      0      0      0     14    NaN   \n",
       "2   140    17  ...      0      0     22      0      0      0     14    NaN   \n",
       "3   140    17  ...      0      0     22      0      0      0     14    NaN   \n",
       "4   140    17  ...      0      0     22      0      0      0     14    NaN   \n",
       "\n",
       "   VC217  VC218  \n",
       "0    NaN    NaN  \n",
       "1    NaN    NaN  \n",
       "2    NaN    NaN  \n",
       "3    NaN    NaN  \n",
       "4    NaN    NaN  \n",
       "\n",
       "[5 rows x 156 columns]"
      ]
     },
     "execution_count": 21,
     "metadata": {},
     "output_type": "execute_result"
    }
   ],
   "source": [
    "sf=pd.read_csv('../Problem-Sets/data/San Francisco Crime by Neighborhood and Tract.csv')\n",
    "sf.head()"
   ]
  },
  {
   "cell_type": "markdown",
   "metadata": {},
   "source": [
    "### 2) Test and Tweak Model\n"
   ]
  },
  {
   "cell_type": "markdown",
   "metadata": {},
   "source": [
    "#### 2.1 Use your trained models to perform predictions on the validation set. Then, choose your best model from the validation set, and use it to perform predictions on the the test set. \n"
   ]
  },
  {
   "cell_type": "code",
   "execution_count": 22,
   "metadata": {},
   "outputs": [],
   "source": [
    "sf['Month_Year'] = pd.to_datetime(sf['Month_Year'])\n",
    "sf_dropped = sf.dropna(axis = 1)\n",
    "sf_dropped = sf_dropped.drop(['VC21', 'VC54', 'VC55','VC57','VC58'], axis = 1)\n",
    "X = sf_dropped.drop(['number_crimes', 'neighborhood', 'Month_Year','tractce10' ], axis=1)\n",
    "y = sf_dropped['number_crimes']"
   ]
  },
  {
   "cell_type": "code",
   "execution_count": 23,
   "metadata": {},
   "outputs": [
    {
     "data": {
      "text/plain": [
       "(35295, 140)"
      ]
     },
     "execution_count": 23,
     "metadata": {},
     "output_type": "execute_result"
    }
   ],
   "source": [
    "X.shape"
   ]
  },
  {
   "cell_type": "code",
   "execution_count": 24,
   "metadata": {},
   "outputs": [],
   "source": [
    "X_train, X_test, y_train, y_test = train_test_split(X, y,\n",
    "                                                    train_size=0.80, test_size=0.20)\n",
    "\n",
    "X_train, X_validate, y_train, y_validate = train_test_split(X_train, y_train,\n",
    "                                                    train_size=0.75, test_size=0.25)"
   ]
  },
  {
   "cell_type": "code",
   "execution_count": 25,
   "metadata": {},
   "outputs": [],
   "source": [
    "def rmse(pred, actual):\n",
    "    return np.sqrt(np.mean((pred - actual) ** 2))"
   ]
  },
  {
   "cell_type": "code",
   "execution_count": 26,
   "metadata": {},
   "outputs": [
    {
     "data": {
      "image/png": "[encoded data removed]",
      "text/plain": [
       "<Figure size 432x288 with 1 Axes>"
      ]
     },
     "metadata": {},
     "output_type": "display_data"
    },
    {
     "data": {
      "text/plain": [
       "227.33788747698605"
      ]
     },
     "execution_count": 26,
     "metadata": {},
     "output_type": "execute_result"
    }
   ],
   "source": [
    "#LINEAR REGRESSION\n",
    "lin_reg = LinearRegression(normalize=True)\n",
    "# fit the model\n",
    "lin_model = lin_reg.fit(X_train, y_train)\n",
    "lin_pred = lin_model.predict(X_train)\n",
    "plt.scatter(y_train, lin_pred)\n",
    "plt.title('Linear Model (OLS)')\n",
    "plt.xlabel('actual value')\n",
    "plt.ylabel('predicted value')\n",
    "plt.show()\n",
    "rmse(lin_pred, y_train)\n"
   ]
  },
  {
   "cell_type": "code",
   "execution_count": 27,
   "metadata": {},
   "outputs": [
    {
     "data": {
      "image/png": "[encoded data removed]",
      "text/plain": [
       "<Figure size 432x288 with 1 Axes>"
      ]
     },
     "metadata": {},
     "output_type": "display_data"
    },
    {
     "data": {
      "text/plain": [
       "227.15448282102167"
      ]
     },
     "execution_count": 27,
     "metadata": {},
     "output_type": "execute_result"
    }
   ],
   "source": [
    "#RIDGE REGRESSION\n",
    "ridge_reg = Ridge() \n",
    "ridge_model = ridge_reg.fit(X_train, y_train)\n",
    "ridge_pred = ridge_model.predict(X_train)\n",
    "plt.scatter(y_train, ridge_pred)\n",
    "plt.title('Ridge Model')\n",
    "plt.xlabel('actual values')\n",
    "plt.ylabel('predicted values')\n",
    "plt.show()\n",
    "rmse(ridge_pred, y_train)"
   ]
  },
  {
   "cell_type": "code",
   "execution_count": 28,
   "metadata": {},
   "outputs": [
    {
     "name": "stderr",
     "output_type": "stream",
     "text": [
      "/Users/jarellymartin/anaconda3/lib/python3.6/site-packages/sklearn/linear_model/coordinate_descent.py:492: ConvergenceWarning: Objective did not converge. You might want to increase the number of iterations. Fitting data with very small alpha may cause precision problems.\n",
      "  ConvergenceWarning)\n"
     ]
    },
    {
     "data": {
      "image/png": "[encoded data removed]",
      "text/plain": [
       "<Figure size 432x288 with 1 Axes>"
      ]
     },
     "metadata": {},
     "output_type": "display_data"
    },
    {
     "data": {
      "text/plain": [
       "229.43180658008745"
      ]
     },
     "execution_count": 28,
     "metadata": {},
     "output_type": "execute_result"
    }
   ],
   "source": [
    "#LASSO REGRESSION\n",
    "lasso_reg = Lasso(max_iter=10000)  \n",
    "lasso_model = lasso_reg.fit(X_train, y_train)\n",
    "lasso_pred = lasso_model.predict(X_train)\n",
    "plt.scatter(y_train, lasso_pred)\n",
    "plt.title('LASSO Model')\n",
    "plt.xlabel('actual values')\n",
    "plt.ylabel('predicted values')\n",
    "plt.show()\n",
    "rmse(lasso_pred, y_train)"
   ]
  },
  {
   "cell_type": "code",
   "execution_count": 29,
   "metadata": {},
   "outputs": [
    {
     "name": "stdout",
     "output_type": "stream",
     "text": [
      "linear model rmse:  228.9739097346355\n",
      "Ridge rmse:  228.83230817919173\n",
      "LASSO rmse:  230.65884031532389\n",
      "linear r2:  0.6723433985378748\n",
      "ridge r2:  0.6727485306177969\n",
      "lasso r2:  0.6675034593926259\n"
     ]
    }
   ],
   "source": [
    "lin_vpred = lin_model.predict(X_validate)\n",
    "ridge_vpred = ridge_model.predict(X_validate)\n",
    "lasso_vpred = lasso_model.predict(X_validate)\n",
    "\n",
    "print(\"linear model rmse: \", rmse(lin_vpred, y_validate))\n",
    "print(\"Ridge rmse: \", rmse(ridge_vpred, y_validate))\n",
    "print(\"LASSO rmse: \", rmse(lasso_vpred, y_validate))\n",
    "                           \n",
    "print(\"linear r2: \", r2_score(y_validate, lin_vpred))\n",
    "print(\"ridge r2: \", r2_score(y_validate, ridge_vpred))\n",
    "print(\"lasso r2: \", r2_score(y_validate, lasso_vpred))\n",
    "\n",
    "\n"
   ]
  },
  {
   "cell_type": "code",
   "execution_count": 30,
   "metadata": {},
   "outputs": [
    {
     "name": "stdout",
     "output_type": "stream",
     "text": [
      "Test set rmse:  227.97451820200905\n"
     ]
    }
   ],
   "source": [
    "final_pred = ridge_model.predict(X_test)\n",
    "# calculate the rmse for the final predictions\n",
    "print('Test set rmse: ', rmse(final_pred, y_test))\n",
    "                              \n"
   ]
  },
  {
   "cell_type": "markdown",
   "metadata": {},
   "source": [
    "* Which model(s) has the best performance on the validation set? In addition to the metrics you choose, also report the correlation (Pearson) between your predicted values and the observed values. \n",
    "\n",
    "        The model that has the best performance on the validation set is my ridge model. \n",
    "\n",
    "* Why is it good practice to do a train/validation/test split, instead of just a train/test split?\n",
    "        \n",
    "         The reason why its good practice to perform the train/validation/test split is because it allows us to  avoid any overfitting problems and can be used on small data sets (we can't say the same thing about the train/test split). In using cross-validation we are about see how our model performs on unseen data, since its simulating a test error (on our folds) without having to use the test set. \n",
    "\n",
    "* In general, should predictions in the validation and test sets be more or less accurate than predictions on the training set? Why?\n",
    "\n",
    "        Typically they should be less accurate because we trained our model on the training set. This means that when we use our model on both the validation and test sets it is predicting on unseen data. As a result, the error is typically higher."
   ]
  },
  {
   "cell_type": "markdown",
   "metadata": {},
   "source": [
    "#### 2.2 Also implement a cross-validation approach\n",
    "\n",
    "What are the advantages and disdvantages of cross-validation vs. the typical train-validation-test split?\n",
    "\n",
    "        The advantages of the cross-validation approach as mentioned aboved is that it tends to avoid any overftting problems, can be used on small data sets (where we are typically unable to do so for a train-validation-test split). Another thing to mention is that with this method we are able to see how well our model is performing on unseen data, since its simulating a test error without having to even use the test set. As a result, we are able to estimate both model bias and model variance. But some of the disadvantages that come with using this method is that it can take too long and assumes that the out-of-sample data was drawn from the same population as the training set."
   ]
  },
  {
   "cell_type": "code",
   "execution_count": 31,
   "metadata": {},
   "outputs": [
    {
     "data": {
      "text/plain": [
       "-2.148652320883303"
      ]
     },
     "execution_count": 31,
     "metadata": {},
     "output_type": "execute_result"
    }
   ],
   "source": [
    "lin_predicted = cross_val_predict(lin_reg, X, y, cv = 5)\n",
    "r2_score(y, lin_predicted)"
   ]
  },
  {
   "cell_type": "code",
   "execution_count": 32,
   "metadata": {},
   "outputs": [
    {
     "data": {
      "image/png": "[encoded data removed]",
      "text/plain": [
       "<Figure size 432x288 with 1 Axes>"
      ]
     },
     "metadata": {},
     "output_type": "display_data"
    }
   ],
   "source": [
    "plt.scatter(y, lin_predicted)\n",
    "plt.title('Linear Model (OLS)')\n",
    "plt.xlabel('actual value')\n",
    "plt.ylabel('predicted value')\n",
    "plt.show()"
   ]
  },
  {
   "cell_type": "code",
   "execution_count": 33,
   "metadata": {},
   "outputs": [
    {
     "data": {
      "text/plain": [
       "-2.131521373592543"
      ]
     },
     "execution_count": 33,
     "metadata": {},
     "output_type": "execute_result"
    }
   ],
   "source": [
    "ridge_predicted = cross_val_predict(ridge_reg, X, y, cv = 5)\n",
    "r2_score(y, ridge_predicted)"
   ]
  },
  {
   "cell_type": "code",
   "execution_count": 34,
   "metadata": {},
   "outputs": [
    {
     "data": {
      "image/png": "[encoded data removed]",
      "text/plain": [
       "<Figure size 432x288 with 1 Axes>"
      ]
     },
     "metadata": {},
     "output_type": "display_data"
    }
   ],
   "source": [
    "plt.scatter(y, ridge_predicted)\n",
    "plt.title('Linear Model (OLS)')\n",
    "plt.xlabel('actual value')\n",
    "plt.ylabel('predicted value')\n",
    "plt.show()"
   ]
  },
  {
   "cell_type": "code",
   "execution_count": 35,
   "metadata": {},
   "outputs": [],
   "source": [
    "# lasso_predicted = cross_val_predict(lasso_reg, X, y, cv = 5)\n",
    "# r2_score(y, lasso_predicted)"
   ]
  },
  {
   "cell_type": "code",
   "execution_count": 36,
   "metadata": {},
   "outputs": [],
   "source": [
    "# plt.scatter(y, lasso_predicted)\n",
    "# plt.title('Linear Model (OLS)')\n",
    "# plt.xlabel('actual value')\n",
    "# plt.ylabel('predicted value')\n",
    "# plt.show()"
   ]
  },
  {
   "cell_type": "markdown",
   "metadata": {},
   "source": [
    "### 3) Generalize to a new Dataset\n"
   ]
  },
  {
   "cell_type": "markdown",
   "metadata": {},
   "source": [
    "#### 3.1 Now let's test the model on a brand new dataset. Download the cleaned NYPD data from bcourses, and predict neighborhood crime rates in New York City\n",
    "\n",
    "Choose your best/preferred model. How accurate is it?\n",
    "\n",
    "        From the above I picked the ridge regression model, since it was the best model. I then used that model for the brand new nyc dataset."
   ]
  },
  {
   "cell_type": "code",
   "execution_count": 37,
   "metadata": {},
   "outputs": [
    {
     "data": {
      "text/html": [
       "<div>\n",
       "<style scoped>\n",
       "    .dataframe tbody tr th:only-of-type {\n",
       "        vertical-align: middle;\n",
       "    }\n",
       "\n",
       "    .dataframe tbody tr th {\n",
       "        vertical-align: top;\n",
       "    }\n",
       "\n",
       "    .dataframe thead th {\n",
       "        text-align: right;\n",
       "    }\n",
       "</style>\n",
       "<table border=\"1\" class=\"dataframe\">\n",
       "  <thead>\n",
       "    <tr style=\"text-align: right;\">\n",
       "      <th></th>\n",
       "      <th>Month_Year</th>\n",
       "      <th>number_crimes</th>\n",
       "      <th>tract_no</th>\n",
       "      <th>neighborhood</th>\n",
       "      <th>VC03</th>\n",
       "      <th>VC04</th>\n",
       "      <th>VC05</th>\n",
       "      <th>VC06</th>\n",
       "      <th>VC07</th>\n",
       "      <th>VC08</th>\n",
       "      <th>...</th>\n",
       "      <th>VC206</th>\n",
       "      <th>VC207</th>\n",
       "      <th>VC208</th>\n",
       "      <th>VC209</th>\n",
       "      <th>VC210</th>\n",
       "      <th>VC211</th>\n",
       "      <th>VC212</th>\n",
       "      <th>VC216</th>\n",
       "      <th>VC217</th>\n",
       "      <th>VC218</th>\n",
       "    </tr>\n",
       "  </thead>\n",
       "  <tbody>\n",
       "    <tr>\n",
       "      <th>0</th>\n",
       "      <td>01/1999</td>\n",
       "      <td>1</td>\n",
       "      <td>100</td>\n",
       "      <td>Rikers Island</td>\n",
       "      <td>0</td>\n",
       "      <td>0</td>\n",
       "      <td>0</td>\n",
       "      <td>0</td>\n",
       "      <td>0</td>\n",
       "      <td>0</td>\n",
       "      <td>...</td>\n",
       "      <td>0</td>\n",
       "      <td>63</td>\n",
       "      <td>0</td>\n",
       "      <td>0</td>\n",
       "      <td>5</td>\n",
       "      <td>0</td>\n",
       "      <td>283</td>\n",
       "      <td>NaN</td>\n",
       "      <td>NaN</td>\n",
       "      <td>NaN</td>\n",
       "    </tr>\n",
       "    <tr>\n",
       "      <th>1</th>\n",
       "      <td>01/2002</td>\n",
       "      <td>1</td>\n",
       "      <td>100</td>\n",
       "      <td>Rikers Island</td>\n",
       "      <td>0</td>\n",
       "      <td>0</td>\n",
       "      <td>0</td>\n",
       "      <td>0</td>\n",
       "      <td>0</td>\n",
       "      <td>0</td>\n",
       "      <td>...</td>\n",
       "      <td>0</td>\n",
       "      <td>63</td>\n",
       "      <td>0</td>\n",
       "      <td>0</td>\n",
       "      <td>5</td>\n",
       "      <td>0</td>\n",
       "      <td>283</td>\n",
       "      <td>NaN</td>\n",
       "      <td>NaN</td>\n",
       "      <td>NaN</td>\n",
       "    </tr>\n",
       "    <tr>\n",
       "      <th>2</th>\n",
       "      <td>01/2003</td>\n",
       "      <td>2</td>\n",
       "      <td>100</td>\n",
       "      <td>Rikers Island</td>\n",
       "      <td>0</td>\n",
       "      <td>0</td>\n",
       "      <td>0</td>\n",
       "      <td>0</td>\n",
       "      <td>0</td>\n",
       "      <td>0</td>\n",
       "      <td>...</td>\n",
       "      <td>0</td>\n",
       "      <td>63</td>\n",
       "      <td>0</td>\n",
       "      <td>0</td>\n",
       "      <td>5</td>\n",
       "      <td>0</td>\n",
       "      <td>283</td>\n",
       "      <td>NaN</td>\n",
       "      <td>NaN</td>\n",
       "      <td>NaN</td>\n",
       "    </tr>\n",
       "    <tr>\n",
       "      <th>3</th>\n",
       "      <td>01/2005</td>\n",
       "      <td>3</td>\n",
       "      <td>100</td>\n",
       "      <td>Rikers Island</td>\n",
       "      <td>0</td>\n",
       "      <td>0</td>\n",
       "      <td>0</td>\n",
       "      <td>0</td>\n",
       "      <td>0</td>\n",
       "      <td>0</td>\n",
       "      <td>...</td>\n",
       "      <td>0</td>\n",
       "      <td>63</td>\n",
       "      <td>0</td>\n",
       "      <td>0</td>\n",
       "      <td>5</td>\n",
       "      <td>0</td>\n",
       "      <td>283</td>\n",
       "      <td>NaN</td>\n",
       "      <td>NaN</td>\n",
       "      <td>NaN</td>\n",
       "    </tr>\n",
       "    <tr>\n",
       "      <th>4</th>\n",
       "      <td>01/2006</td>\n",
       "      <td>155</td>\n",
       "      <td>100</td>\n",
       "      <td>Rikers Island</td>\n",
       "      <td>0</td>\n",
       "      <td>0</td>\n",
       "      <td>0</td>\n",
       "      <td>0</td>\n",
       "      <td>0</td>\n",
       "      <td>0</td>\n",
       "      <td>...</td>\n",
       "      <td>0</td>\n",
       "      <td>63</td>\n",
       "      <td>0</td>\n",
       "      <td>0</td>\n",
       "      <td>5</td>\n",
       "      <td>0</td>\n",
       "      <td>283</td>\n",
       "      <td>NaN</td>\n",
       "      <td>NaN</td>\n",
       "      <td>NaN</td>\n",
       "    </tr>\n",
       "  </tbody>\n",
       "</table>\n",
       "<p>5 rows × 156 columns</p>\n",
       "</div>"
      ],
      "text/plain": [
       "  Month_Year  number_crimes  tract_no   neighborhood  VC03  VC04  VC05  VC06  \\\n",
       "0    01/1999              1       100  Rikers Island     0     0     0     0   \n",
       "1    01/2002              1       100  Rikers Island     0     0     0     0   \n",
       "2    01/2003              2       100  Rikers Island     0     0     0     0   \n",
       "3    01/2005              3       100  Rikers Island     0     0     0     0   \n",
       "4    01/2006            155       100  Rikers Island     0     0     0     0   \n",
       "\n",
       "   VC07  VC08  ...  VC206  VC207  VC208  VC209  VC210  VC211  VC212  VC216  \\\n",
       "0     0     0  ...      0     63      0      0      5      0    283    NaN   \n",
       "1     0     0  ...      0     63      0      0      5      0    283    NaN   \n",
       "2     0     0  ...      0     63      0      0      5      0    283    NaN   \n",
       "3     0     0  ...      0     63      0      0      5      0    283    NaN   \n",
       "4     0     0  ...      0     63      0      0      5      0    283    NaN   \n",
       "\n",
       "   VC217  VC218  \n",
       "0    NaN    NaN  \n",
       "1    NaN    NaN  \n",
       "2    NaN    NaN  \n",
       "3    NaN    NaN  \n",
       "4    NaN    NaN  \n",
       "\n",
       "[5 rows x 156 columns]"
      ]
     },
     "execution_count": 37,
     "metadata": {},
     "output_type": "execute_result"
    }
   ],
   "source": [
    "nyc = pd.read_csv('../Problem-Sets/data/NY Crime By Neighborhood.csv')\n",
    "nyc.head()"
   ]
  },
  {
   "cell_type": "code",
   "execution_count": 38,
   "metadata": {},
   "outputs": [],
   "source": [
    "nyc_dropped  = nyc.dropna(axis = 1)\n"
   ]
  },
  {
   "cell_type": "markdown",
   "metadata": {},
   "source": [
    "Below, I am looking at the dropped columns in the original datasets of both SF and NYC in order to drop the same columns and not have an issue when using my model to predict on the new NYC dataset."
   ]
  },
  {
   "cell_type": "code",
   "execution_count": 39,
   "metadata": {},
   "outputs": [],
   "source": [
    "sf_columns  = list(sf_dropped.columns)\n",
    "nyc_columns = list(nyc_dropped.columns)\n",
    "\n",
    "sfdropped_columns = []\n",
    "for i in list(sf.columns):\n",
    "    if i not in sf_columns:\n",
    "        sfdropped_columns.append(i)\n"
   ]
  },
  {
   "cell_type": "code",
   "execution_count": 40,
   "metadata": {},
   "outputs": [],
   "source": [
    "nycdropped_columns = []\n",
    "for i in list(nyc.columns):\n",
    "    if i not in nyc_columns:\n",
    "        nycdropped_columns.append(i)\n"
   ]
  },
  {
   "cell_type": "code",
   "execution_count": 41,
   "metadata": {},
   "outputs": [
    {
     "data": {
      "text/plain": [
       "(375423, 140)"
      ]
     },
     "execution_count": 41,
     "metadata": {},
     "output_type": "execute_result"
    }
   ],
   "source": [
    "new_X = nyc_dropped.drop(['number_crimes', 'neighborhood', 'tract_no'], axis=1)\n",
    "new_y = nyc['number_crimes']\n",
    "new_X.shape\n"
   ]
  },
  {
   "cell_type": "code",
   "execution_count": 42,
   "metadata": {},
   "outputs": [
    {
     "name": "stdout",
     "output_type": "stream",
     "text": [
      "Test set rmse:  1613.0433738498048\n"
     ]
    }
   ],
   "source": [
    "nyc_lin_pred=ridge_model.predict(new_X)\n",
    "print('Test set rmse: ', rmse(nyc_lin_pred,new_y))"
   ]
  },
  {
   "cell_type": "markdown",
   "metadata": {},
   "source": [
    "#### 3.2 In general, what are the potential challenges with extrapolating from data trained on a San Francisco dataset to a New York City dataset?\n",
    "\n",
    "    Since we trained our model on the San Francisco dataset when we used the model on our New York City dataset it did very poorly given the large rmse score of 1585. In using the model, we assumed that both San Francisco and New York City are very similar cities and face the same amount of crime. But this isn't necessarily the case, since both cities have a completeley different civic makeup, demographics, number of crimes, and etc. Given that our model learned the San Francisco dataset and its number of crimes it won't be able to do same for a completely different city across the country. "
   ]
  },
  {
   "cell_type": "markdown",
   "metadata": {},
   "source": [
    "### 4) Discussion Questions "
   ]
  },
  {
   "cell_type": "markdown",
   "metadata": {},
   "source": [
    "#### 4.1 Define bias-variance tradeoff. Why is it relevant to prediction in machine learning?\n",
    "\n",
    "       To begin, the bias is the difference between the estimator's expected value and the true value of the parameter, then the variance is the measure of dispersion in our data. More specifically he bias-variance tradeoff is the tradeoff that occurs when you are trying to minmize the bias and variance. For instance, is you want to minmize the bias then that might occur in an increase in variance and say you want to minimize the variance then we might increase the bias. This is relevant to prediction in machine learning bcause both high-bias and high-variance might result in a poor model which might not be able to predict accurately. \n"
   ]
  },
  {
   "cell_type": "markdown",
   "metadata": {},
   "source": [
    "#### 4.2 Define overfitting. Why does this phenomenon tend to arise in the machine learning process, and what can be done to correct for it?\n",
    "\n",
    "        Overfitting is when your model \"too closely\" or \"too exactly\" predicts your dataset. If overfitting does occur then that might raise some issues where you would want to use your model on unseen data and it won't be able to predit accurately since it is too close to your previous dataset. With this being said, we can introcude a penalty (called regularization) to your loss function and prevent model from modeling noisy data. "
   ]
  },
  {
   "cell_type": "markdown",
   "metadata": {},
   "source": [
    "#### 4.3 What are the disadvantage and advantage of using a predictive algorithm to predict neighborhood crime?\n",
    "\n",
    "Some of the disadvantage when using this predictive algorithm is that we are indirectly profiling and targeting communities of color. This is to say that my algorithm will overly predict high crime in neighborhoods that are black and brown even though some of the features that were used are indirectly related to race. In other words this algorithm won't target or predict a high crime for predomently white communities and less likely to get overpoliced like communities of color. \n"
   ]
  }
 ],
 "metadata": {
  "kernelspec": {
   "display_name": "Python 3",
   "language": "python",
   "name": "python3"
  },
  "language_info": {
   "codemirror_mode": {
    "name": "ipython",
    "version": 3
   },
   "file_extension": ".py",
   "mimetype": "text/x-python",
   "name": "python",
   "nbconvert_exporter": "python",
   "pygments_lexer": "ipython3",
   "version": "3.8.5"
  }
 },
 "nbformat": 4,
 "nbformat_minor": 2
}
