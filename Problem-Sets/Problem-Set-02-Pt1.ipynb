{
 "cells": [
  {
   "cell_type": "code",
   "execution_count": 1,
   "metadata": {},
   "outputs": [],
   "source": [
    "#importating libraries\n",
    "\n",
    "import numpy as np\n",
    "import pandas as pd\n",
    "from scipy import stats\n",
    "%matplotlib inline\n",
    "import matplotlib.pyplot as plt\n",
    "plt.style.use('fivethirtyeight')\n",
    "from pandas import DatetimeIndex, Series, to_datetime\n",
    "import seaborn as sns\n",
    "from sklearn.model_selection import train_test_split\n",
    "from sklearn.linear_model import Ridge, Lasso, LinearRegression\n",
    "from sklearn.model_selection import KFold"
   ]
  },
  {
   "cell_type": "markdown",
   "metadata": {},
   "source": [
    "### 1) Loading the Data"
   ]
  },
  {
   "cell_type": "code",
   "execution_count": 2,
   "metadata": {},
   "outputs": [
    {
     "data": {
      "text/html": [
       "<div>\n",
       "<style scoped>\n",
       "    .dataframe tbody tr th:only-of-type {\n",
       "        vertical-align: middle;\n",
       "    }\n",
       "\n",
       "    .dataframe tbody tr th {\n",
       "        vertical-align: top;\n",
       "    }\n",
       "\n",
       "    .dataframe thead th {\n",
       "        text-align: right;\n",
       "    }\n",
       "</style>\n",
       "<table border=\"1\" class=\"dataframe\">\n",
       "  <thead>\n",
       "    <tr style=\"text-align: right;\">\n",
       "      <th></th>\n",
       "      <th>neighborhood</th>\n",
       "      <th>Month_Year</th>\n",
       "      <th>number_crimes</th>\n",
       "      <th>tractce10</th>\n",
       "      <th>VC03</th>\n",
       "      <th>VC04</th>\n",
       "      <th>VC05</th>\n",
       "      <th>VC06</th>\n",
       "      <th>VC07</th>\n",
       "      <th>VC08</th>\n",
       "      <th>...</th>\n",
       "      <th>VC206</th>\n",
       "      <th>VC207</th>\n",
       "      <th>VC208</th>\n",
       "      <th>VC209</th>\n",
       "      <th>VC210</th>\n",
       "      <th>VC211</th>\n",
       "      <th>VC212</th>\n",
       "      <th>VC216</th>\n",
       "      <th>VC217</th>\n",
       "      <th>VC218</th>\n",
       "    </tr>\n",
       "  </thead>\n",
       "  <tbody>\n",
       "    <tr>\n",
       "      <th>0</th>\n",
       "      <td>North Beach</td>\n",
       "      <td>01/2003</td>\n",
       "      <td>168</td>\n",
       "      <td>10100</td>\n",
       "      <td>2059</td>\n",
       "      <td>815</td>\n",
       "      <td>178</td>\n",
       "      <td>545</td>\n",
       "      <td>140</td>\n",
       "      <td>17</td>\n",
       "      <td>...</td>\n",
       "      <td>0</td>\n",
       "      <td>0</td>\n",
       "      <td>22</td>\n",
       "      <td>0</td>\n",
       "      <td>0</td>\n",
       "      <td>0</td>\n",
       "      <td>14</td>\n",
       "      <td>NaN</td>\n",
       "      <td>NaN</td>\n",
       "      <td>NaN</td>\n",
       "    </tr>\n",
       "    <tr>\n",
       "      <th>1</th>\n",
       "      <td>North Beach</td>\n",
       "      <td>01/2004</td>\n",
       "      <td>162</td>\n",
       "      <td>10100</td>\n",
       "      <td>2059</td>\n",
       "      <td>815</td>\n",
       "      <td>178</td>\n",
       "      <td>545</td>\n",
       "      <td>140</td>\n",
       "      <td>17</td>\n",
       "      <td>...</td>\n",
       "      <td>0</td>\n",
       "      <td>0</td>\n",
       "      <td>22</td>\n",
       "      <td>0</td>\n",
       "      <td>0</td>\n",
       "      <td>0</td>\n",
       "      <td>14</td>\n",
       "      <td>NaN</td>\n",
       "      <td>NaN</td>\n",
       "      <td>NaN</td>\n",
       "    </tr>\n",
       "    <tr>\n",
       "      <th>2</th>\n",
       "      <td>North Beach</td>\n",
       "      <td>01/2005</td>\n",
       "      <td>174</td>\n",
       "      <td>10100</td>\n",
       "      <td>2059</td>\n",
       "      <td>815</td>\n",
       "      <td>178</td>\n",
       "      <td>545</td>\n",
       "      <td>140</td>\n",
       "      <td>17</td>\n",
       "      <td>...</td>\n",
       "      <td>0</td>\n",
       "      <td>0</td>\n",
       "      <td>22</td>\n",
       "      <td>0</td>\n",
       "      <td>0</td>\n",
       "      <td>0</td>\n",
       "      <td>14</td>\n",
       "      <td>NaN</td>\n",
       "      <td>NaN</td>\n",
       "      <td>NaN</td>\n",
       "    </tr>\n",
       "    <tr>\n",
       "      <th>3</th>\n",
       "      <td>North Beach</td>\n",
       "      <td>01/2006</td>\n",
       "      <td>185</td>\n",
       "      <td>10100</td>\n",
       "      <td>2059</td>\n",
       "      <td>815</td>\n",
       "      <td>178</td>\n",
       "      <td>545</td>\n",
       "      <td>140</td>\n",
       "      <td>17</td>\n",
       "      <td>...</td>\n",
       "      <td>0</td>\n",
       "      <td>0</td>\n",
       "      <td>22</td>\n",
       "      <td>0</td>\n",
       "      <td>0</td>\n",
       "      <td>0</td>\n",
       "      <td>14</td>\n",
       "      <td>NaN</td>\n",
       "      <td>NaN</td>\n",
       "      <td>NaN</td>\n",
       "    </tr>\n",
       "    <tr>\n",
       "      <th>4</th>\n",
       "      <td>North Beach</td>\n",
       "      <td>01/2007</td>\n",
       "      <td>153</td>\n",
       "      <td>10100</td>\n",
       "      <td>2059</td>\n",
       "      <td>815</td>\n",
       "      <td>178</td>\n",
       "      <td>545</td>\n",
       "      <td>140</td>\n",
       "      <td>17</td>\n",
       "      <td>...</td>\n",
       "      <td>0</td>\n",
       "      <td>0</td>\n",
       "      <td>22</td>\n",
       "      <td>0</td>\n",
       "      <td>0</td>\n",
       "      <td>0</td>\n",
       "      <td>14</td>\n",
       "      <td>NaN</td>\n",
       "      <td>NaN</td>\n",
       "      <td>NaN</td>\n",
       "    </tr>\n",
       "  </tbody>\n",
       "</table>\n",
       "<p>5 rows × 156 columns</p>\n",
       "</div>"
      ],
      "text/plain": [
       "  neighborhood Month_Year  number_crimes  tractce10  VC03  VC04  VC05  VC06  \\\n",
       "0  North Beach    01/2003            168      10100  2059   815   178   545   \n",
       "1  North Beach    01/2004            162      10100  2059   815   178   545   \n",
       "2  North Beach    01/2005            174      10100  2059   815   178   545   \n",
       "3  North Beach    01/2006            185      10100  2059   815   178   545   \n",
       "4  North Beach    01/2007            153      10100  2059   815   178   545   \n",
       "\n",
       "   VC07  VC08  ...  VC206  VC207  VC208  VC209  VC210  VC211  VC212  VC216  \\\n",
       "0   140    17  ...      0      0     22      0      0      0     14    NaN   \n",
       "1   140    17  ...      0      0     22      0      0      0     14    NaN   \n",
       "2   140    17  ...      0      0     22      0      0      0     14    NaN   \n",
       "3   140    17  ...      0      0     22      0      0      0     14    NaN   \n",
       "4   140    17  ...      0      0     22      0      0      0     14    NaN   \n",
       "\n",
       "   VC217  VC218  \n",
       "0    NaN    NaN  \n",
       "1    NaN    NaN  \n",
       "2    NaN    NaN  \n",
       "3    NaN    NaN  \n",
       "4    NaN    NaN  \n",
       "\n",
       "[5 rows x 156 columns]"
      ]
     },
     "execution_count": 2,
     "metadata": {},
     "output_type": "execute_result"
    }
   ],
   "source": [
    "sf= pd.read_csv('../Problem-Sets/data/San Francisco Crime by Neighborhood and Tract.csv')\n",
    "sf.head()\n"
   ]
  },
  {
   "cell_type": "code",
   "execution_count": 3,
   "metadata": {},
   "outputs": [
    {
     "data": {
      "text/html": [
       "<div>\n",
       "<style scoped>\n",
       "    .dataframe tbody tr th:only-of-type {\n",
       "        vertical-align: middle;\n",
       "    }\n",
       "\n",
       "    .dataframe tbody tr th {\n",
       "        vertical-align: top;\n",
       "    }\n",
       "\n",
       "    .dataframe thead th {\n",
       "        text-align: right;\n",
       "    }\n",
       "</style>\n",
       "<table border=\"1\" class=\"dataframe\">\n",
       "  <thead>\n",
       "    <tr style=\"text-align: right;\">\n",
       "      <th></th>\n",
       "      <th>Feature</th>\n",
       "      <th>Description</th>\n",
       "    </tr>\n",
       "  </thead>\n",
       "  <tbody>\n",
       "    <tr>\n",
       "      <th>0</th>\n",
       "      <td>VC03</td>\n",
       "      <td>Total households</td>\n",
       "    </tr>\n",
       "    <tr>\n",
       "      <th>1</th>\n",
       "      <td>VC04</td>\n",
       "      <td>Total households - Family households (families)</td>\n",
       "    </tr>\n",
       "    <tr>\n",
       "      <th>2</th>\n",
       "      <td>VC05</td>\n",
       "      <td>Total households - Family households (families...</td>\n",
       "    </tr>\n",
       "    <tr>\n",
       "      <th>3</th>\n",
       "      <td>VC06</td>\n",
       "      <td>Total households - Family households (families...</td>\n",
       "    </tr>\n",
       "    <tr>\n",
       "      <th>4</th>\n",
       "      <td>VC07</td>\n",
       "      <td>Total households - Family households (families...</td>\n",
       "    </tr>\n",
       "    <tr>\n",
       "      <th>...</th>\n",
       "      <td>...</td>\n",
       "      <td>...</td>\n",
       "    </tr>\n",
       "    <tr>\n",
       "      <th>147</th>\n",
       "      <td>VC211</td>\n",
       "      <td>ANCESTRY - Total population - Welsh</td>\n",
       "    </tr>\n",
       "    <tr>\n",
       "      <th>148</th>\n",
       "      <td>VC212</td>\n",
       "      <td>ANCESTRY - Total population - West Indian (exc...</td>\n",
       "    </tr>\n",
       "    <tr>\n",
       "      <th>149</th>\n",
       "      <td>VC216</td>\n",
       "      <td>COMPUTERS AND INTERNET USE - Total households</td>\n",
       "    </tr>\n",
       "    <tr>\n",
       "      <th>150</th>\n",
       "      <td>VC217</td>\n",
       "      <td>COMPUTERS AND INTERNET USE - Total households ...</td>\n",
       "    </tr>\n",
       "    <tr>\n",
       "      <th>151</th>\n",
       "      <td>VC218</td>\n",
       "      <td>COMPUTERS AND INTERNET USE - Total households ...</td>\n",
       "    </tr>\n",
       "  </tbody>\n",
       "</table>\n",
       "<p>152 rows × 2 columns</p>\n",
       "</div>"
      ],
      "text/plain": [
       "    Feature                                        Description\n",
       "0      VC03                                   Total households\n",
       "1      VC04    Total households - Family households (families)\n",
       "2      VC05  Total households - Family households (families...\n",
       "3      VC06  Total households - Family households (families...\n",
       "4      VC07  Total households - Family households (families...\n",
       "..      ...                                                ...\n",
       "147   VC211                ANCESTRY - Total population - Welsh\n",
       "148   VC212  ANCESTRY - Total population - West Indian (exc...\n",
       "149   VC216      COMPUTERS AND INTERNET USE - Total households\n",
       "150   VC217  COMPUTERS AND INTERNET USE - Total households ...\n",
       "151   VC218  COMPUTERS AND INTERNET USE - Total households ...\n",
       "\n",
       "[152 rows x 2 columns]"
      ]
     },
     "execution_count": 3,
     "metadata": {},
     "output_type": "execute_result"
    }
   ],
   "source": [
    "key = pd.read_csv('../Problem-Sets/data/San Francisco Crime by Neighborhood Feature Key.csv')\n",
    "key"
   ]
  },
  {
   "cell_type": "markdown",
   "metadata": {},
   "source": [
    "### 2) Prepare the Data to Fit Model(s)"
   ]
  },
  {
   "cell_type": "markdown",
   "metadata": {},
   "source": [
    "### 2.1 Is this a supervised or unsupervised learning problem?"
   ]
  },
  {
   "cell_type": "markdown",
   "metadata": {},
   "source": [
    "This is a supervised learning problem. Here, we want to predict the the number of crimes per neighborhood based on a label(s)/features that we pass into our machine learning algorithm. "
   ]
  },
  {
   "cell_type": "markdown",
   "metadata": {},
   "source": [
    "### 2.2 Clean and Manipulate the date so that you have information about the amount of crime per neighborhood per month from 2003-2017?"
   ]
  },
  {
   "cell_type": "code",
   "execution_count": 4,
   "metadata": {},
   "outputs": [
    {
     "data": {
      "text/html": [
       "<div>\n",
       "<style scoped>\n",
       "    .dataframe tbody tr th:only-of-type {\n",
       "        vertical-align: middle;\n",
       "    }\n",
       "\n",
       "    .dataframe tbody tr th {\n",
       "        vertical-align: top;\n",
       "    }\n",
       "\n",
       "    .dataframe thead th {\n",
       "        text-align: right;\n",
       "    }\n",
       "</style>\n",
       "<table border=\"1\" class=\"dataframe\">\n",
       "  <thead>\n",
       "    <tr style=\"text-align: right;\">\n",
       "      <th></th>\n",
       "      <th>neighborhood</th>\n",
       "      <th>Month_Year</th>\n",
       "      <th>number_crimes</th>\n",
       "      <th>tractce10</th>\n",
       "      <th>VC03</th>\n",
       "      <th>VC04</th>\n",
       "      <th>VC05</th>\n",
       "      <th>VC06</th>\n",
       "      <th>VC07</th>\n",
       "      <th>VC08</th>\n",
       "      <th>...</th>\n",
       "      <th>VC206</th>\n",
       "      <th>VC207</th>\n",
       "      <th>VC208</th>\n",
       "      <th>VC209</th>\n",
       "      <th>VC210</th>\n",
       "      <th>VC211</th>\n",
       "      <th>VC212</th>\n",
       "      <th>VC216</th>\n",
       "      <th>VC217</th>\n",
       "      <th>VC218</th>\n",
       "    </tr>\n",
       "  </thead>\n",
       "  <tbody>\n",
       "    <tr>\n",
       "      <th>0</th>\n",
       "      <td>North Beach</td>\n",
       "      <td>2003-01-01</td>\n",
       "      <td>168</td>\n",
       "      <td>10100</td>\n",
       "      <td>2059</td>\n",
       "      <td>815</td>\n",
       "      <td>178</td>\n",
       "      <td>545</td>\n",
       "      <td>140</td>\n",
       "      <td>17</td>\n",
       "      <td>...</td>\n",
       "      <td>0</td>\n",
       "      <td>0</td>\n",
       "      <td>22</td>\n",
       "      <td>0</td>\n",
       "      <td>0</td>\n",
       "      <td>0</td>\n",
       "      <td>14</td>\n",
       "      <td>NaN</td>\n",
       "      <td>NaN</td>\n",
       "      <td>NaN</td>\n",
       "    </tr>\n",
       "    <tr>\n",
       "      <th>1</th>\n",
       "      <td>North Beach</td>\n",
       "      <td>2004-01-01</td>\n",
       "      <td>162</td>\n",
       "      <td>10100</td>\n",
       "      <td>2059</td>\n",
       "      <td>815</td>\n",
       "      <td>178</td>\n",
       "      <td>545</td>\n",
       "      <td>140</td>\n",
       "      <td>17</td>\n",
       "      <td>...</td>\n",
       "      <td>0</td>\n",
       "      <td>0</td>\n",
       "      <td>22</td>\n",
       "      <td>0</td>\n",
       "      <td>0</td>\n",
       "      <td>0</td>\n",
       "      <td>14</td>\n",
       "      <td>NaN</td>\n",
       "      <td>NaN</td>\n",
       "      <td>NaN</td>\n",
       "    </tr>\n",
       "    <tr>\n",
       "      <th>2</th>\n",
       "      <td>North Beach</td>\n",
       "      <td>2005-01-01</td>\n",
       "      <td>174</td>\n",
       "      <td>10100</td>\n",
       "      <td>2059</td>\n",
       "      <td>815</td>\n",
       "      <td>178</td>\n",
       "      <td>545</td>\n",
       "      <td>140</td>\n",
       "      <td>17</td>\n",
       "      <td>...</td>\n",
       "      <td>0</td>\n",
       "      <td>0</td>\n",
       "      <td>22</td>\n",
       "      <td>0</td>\n",
       "      <td>0</td>\n",
       "      <td>0</td>\n",
       "      <td>14</td>\n",
       "      <td>NaN</td>\n",
       "      <td>NaN</td>\n",
       "      <td>NaN</td>\n",
       "    </tr>\n",
       "    <tr>\n",
       "      <th>3</th>\n",
       "      <td>North Beach</td>\n",
       "      <td>2006-01-01</td>\n",
       "      <td>185</td>\n",
       "      <td>10100</td>\n",
       "      <td>2059</td>\n",
       "      <td>815</td>\n",
       "      <td>178</td>\n",
       "      <td>545</td>\n",
       "      <td>140</td>\n",
       "      <td>17</td>\n",
       "      <td>...</td>\n",
       "      <td>0</td>\n",
       "      <td>0</td>\n",
       "      <td>22</td>\n",
       "      <td>0</td>\n",
       "      <td>0</td>\n",
       "      <td>0</td>\n",
       "      <td>14</td>\n",
       "      <td>NaN</td>\n",
       "      <td>NaN</td>\n",
       "      <td>NaN</td>\n",
       "    </tr>\n",
       "    <tr>\n",
       "      <th>4</th>\n",
       "      <td>North Beach</td>\n",
       "      <td>2007-01-01</td>\n",
       "      <td>153</td>\n",
       "      <td>10100</td>\n",
       "      <td>2059</td>\n",
       "      <td>815</td>\n",
       "      <td>178</td>\n",
       "      <td>545</td>\n",
       "      <td>140</td>\n",
       "      <td>17</td>\n",
       "      <td>...</td>\n",
       "      <td>0</td>\n",
       "      <td>0</td>\n",
       "      <td>22</td>\n",
       "      <td>0</td>\n",
       "      <td>0</td>\n",
       "      <td>0</td>\n",
       "      <td>14</td>\n",
       "      <td>NaN</td>\n",
       "      <td>NaN</td>\n",
       "      <td>NaN</td>\n",
       "    </tr>\n",
       "    <tr>\n",
       "      <th>...</th>\n",
       "      <td>...</td>\n",
       "      <td>...</td>\n",
       "      <td>...</td>\n",
       "      <td>...</td>\n",
       "      <td>...</td>\n",
       "      <td>...</td>\n",
       "      <td>...</td>\n",
       "      <td>...</td>\n",
       "      <td>...</td>\n",
       "      <td>...</td>\n",
       "      <td>...</td>\n",
       "      <td>...</td>\n",
       "      <td>...</td>\n",
       "      <td>...</td>\n",
       "      <td>...</td>\n",
       "      <td>...</td>\n",
       "      <td>...</td>\n",
       "      <td>...</td>\n",
       "      <td>...</td>\n",
       "      <td>...</td>\n",
       "      <td>...</td>\n",
       "    </tr>\n",
       "    <tr>\n",
       "      <th>35290</th>\n",
       "      <td>Bayview Hunters Point</td>\n",
       "      <td>2013-12-01</td>\n",
       "      <td>393</td>\n",
       "      <td>980900</td>\n",
       "      <td>142</td>\n",
       "      <td>50</td>\n",
       "      <td>20</td>\n",
       "      <td>34</td>\n",
       "      <td>9</td>\n",
       "      <td>6</td>\n",
       "      <td>...</td>\n",
       "      <td>0</td>\n",
       "      <td>0</td>\n",
       "      <td>0</td>\n",
       "      <td>0</td>\n",
       "      <td>0</td>\n",
       "      <td>5</td>\n",
       "      <td>0</td>\n",
       "      <td>NaN</td>\n",
       "      <td>NaN</td>\n",
       "      <td>NaN</td>\n",
       "    </tr>\n",
       "    <tr>\n",
       "      <th>35291</th>\n",
       "      <td>Bayview Hunters Point</td>\n",
       "      <td>2014-12-01</td>\n",
       "      <td>484</td>\n",
       "      <td>980900</td>\n",
       "      <td>142</td>\n",
       "      <td>50</td>\n",
       "      <td>20</td>\n",
       "      <td>34</td>\n",
       "      <td>9</td>\n",
       "      <td>6</td>\n",
       "      <td>...</td>\n",
       "      <td>0</td>\n",
       "      <td>0</td>\n",
       "      <td>0</td>\n",
       "      <td>0</td>\n",
       "      <td>0</td>\n",
       "      <td>5</td>\n",
       "      <td>0</td>\n",
       "      <td>NaN</td>\n",
       "      <td>NaN</td>\n",
       "      <td>NaN</td>\n",
       "    </tr>\n",
       "    <tr>\n",
       "      <th>35292</th>\n",
       "      <td>Bayview Hunters Point</td>\n",
       "      <td>2015-12-01</td>\n",
       "      <td>438</td>\n",
       "      <td>980900</td>\n",
       "      <td>142</td>\n",
       "      <td>50</td>\n",
       "      <td>20</td>\n",
       "      <td>34</td>\n",
       "      <td>9</td>\n",
       "      <td>6</td>\n",
       "      <td>...</td>\n",
       "      <td>0</td>\n",
       "      <td>0</td>\n",
       "      <td>0</td>\n",
       "      <td>0</td>\n",
       "      <td>0</td>\n",
       "      <td>5</td>\n",
       "      <td>0</td>\n",
       "      <td>NaN</td>\n",
       "      <td>NaN</td>\n",
       "      <td>NaN</td>\n",
       "    </tr>\n",
       "    <tr>\n",
       "      <th>35293</th>\n",
       "      <td>Bayview Hunters Point</td>\n",
       "      <td>2016-12-01</td>\n",
       "      <td>442</td>\n",
       "      <td>980900</td>\n",
       "      <td>142</td>\n",
       "      <td>50</td>\n",
       "      <td>20</td>\n",
       "      <td>34</td>\n",
       "      <td>9</td>\n",
       "      <td>6</td>\n",
       "      <td>...</td>\n",
       "      <td>0</td>\n",
       "      <td>0</td>\n",
       "      <td>0</td>\n",
       "      <td>0</td>\n",
       "      <td>0</td>\n",
       "      <td>5</td>\n",
       "      <td>0</td>\n",
       "      <td>NaN</td>\n",
       "      <td>NaN</td>\n",
       "      <td>NaN</td>\n",
       "    </tr>\n",
       "    <tr>\n",
       "      <th>35294</th>\n",
       "      <td>Bayview Hunters Point</td>\n",
       "      <td>2017-12-01</td>\n",
       "      <td>533</td>\n",
       "      <td>980900</td>\n",
       "      <td>142</td>\n",
       "      <td>50</td>\n",
       "      <td>20</td>\n",
       "      <td>34</td>\n",
       "      <td>9</td>\n",
       "      <td>6</td>\n",
       "      <td>...</td>\n",
       "      <td>0</td>\n",
       "      <td>0</td>\n",
       "      <td>0</td>\n",
       "      <td>0</td>\n",
       "      <td>0</td>\n",
       "      <td>5</td>\n",
       "      <td>0</td>\n",
       "      <td>NaN</td>\n",
       "      <td>NaN</td>\n",
       "      <td>NaN</td>\n",
       "    </tr>\n",
       "  </tbody>\n",
       "</table>\n",
       "<p>35295 rows × 156 columns</p>\n",
       "</div>"
      ],
      "text/plain": [
       "                neighborhood Month_Year  number_crimes  tractce10  VC03  VC04  \\\n",
       "0                North Beach 2003-01-01            168      10100  2059   815   \n",
       "1                North Beach 2004-01-01            162      10100  2059   815   \n",
       "2                North Beach 2005-01-01            174      10100  2059   815   \n",
       "3                North Beach 2006-01-01            185      10100  2059   815   \n",
       "4                North Beach 2007-01-01            153      10100  2059   815   \n",
       "...                      ...        ...            ...        ...   ...   ...   \n",
       "35290  Bayview Hunters Point 2013-12-01            393     980900   142    50   \n",
       "35291  Bayview Hunters Point 2014-12-01            484     980900   142    50   \n",
       "35292  Bayview Hunters Point 2015-12-01            438     980900   142    50   \n",
       "35293  Bayview Hunters Point 2016-12-01            442     980900   142    50   \n",
       "35294  Bayview Hunters Point 2017-12-01            533     980900   142    50   \n",
       "\n",
       "       VC05  VC06  VC07  VC08  ...  VC206  VC207  VC208  VC209  VC210  VC211  \\\n",
       "0       178   545   140    17  ...      0      0     22      0      0      0   \n",
       "1       178   545   140    17  ...      0      0     22      0      0      0   \n",
       "2       178   545   140    17  ...      0      0     22      0      0      0   \n",
       "3       178   545   140    17  ...      0      0     22      0      0      0   \n",
       "4       178   545   140    17  ...      0      0     22      0      0      0   \n",
       "...     ...   ...   ...   ...  ...    ...    ...    ...    ...    ...    ...   \n",
       "35290    20    34     9     6  ...      0      0      0      0      0      5   \n",
       "35291    20    34     9     6  ...      0      0      0      0      0      5   \n",
       "35292    20    34     9     6  ...      0      0      0      0      0      5   \n",
       "35293    20    34     9     6  ...      0      0      0      0      0      5   \n",
       "35294    20    34     9     6  ...      0      0      0      0      0      5   \n",
       "\n",
       "       VC212  VC216  VC217  VC218  \n",
       "0         14    NaN    NaN    NaN  \n",
       "1         14    NaN    NaN    NaN  \n",
       "2         14    NaN    NaN    NaN  \n",
       "3         14    NaN    NaN    NaN  \n",
       "4         14    NaN    NaN    NaN  \n",
       "...      ...    ...    ...    ...  \n",
       "35290      0    NaN    NaN    NaN  \n",
       "35291      0    NaN    NaN    NaN  \n",
       "35292      0    NaN    NaN    NaN  \n",
       "35293      0    NaN    NaN    NaN  \n",
       "35294      0    NaN    NaN    NaN  \n",
       "\n",
       "[35295 rows x 156 columns]"
      ]
     },
     "execution_count": 4,
     "metadata": {},
     "output_type": "execute_result"
    }
   ],
   "source": [
    "sf['Month_Year'] = pd.to_datetime(sf['Month_Year'])\n",
    "sf"
   ]
  },
  {
   "cell_type": "code",
   "execution_count": 5,
   "metadata": {},
   "outputs": [],
   "source": [
    "sf.dropna(axis = 1,inplace =True)\n"
   ]
  },
  {
   "cell_type": "markdown",
   "metadata": {},
   "source": [
    "### 2.3 Partition your data into training, validation, and test sets\n",
    "How much data should be used for each, and why? What are the tradeoffs and various choices?"
   ]
  },
  {
   "cell_type": "markdown",
   "metadata": {},
   "source": [
    "Below, we are using a typical standard in the Data Science community. To begin, we are are setting aside 80% of our data to be in the training set, while 20% is on our test set. Then for validation, we are setting aside 75% of our training set to the validation set, while 25% is going into our test set. Like mentioned during class, we are making these specific choices because of the bias-variance tradeoff. For instance, we want to make sure we are minimizing test bias, so our training set needs to be relatively larger than our test set. But, we also want to ensure that we are minimizing test variance, so there still has to be enough data in our test set. When using cross-validation the number of k-folds is also crucial since more folds lead to higher test bias nad less folds lead to higher test variance."
   ]
  },
  {
   "cell_type": "code",
   "execution_count": 6,
   "metadata": {},
   "outputs": [],
   "source": [
    "#features that will be used in order to predict number of crimes\n",
    "X = sf.drop(['number_crimes', 'neighborhood', 'Month_Year'], axis=1)\n",
    "y = sf['number_crimes']"
   ]
  },
  {
   "cell_type": "code",
   "execution_count": 7,
   "metadata": {},
   "outputs": [],
   "source": [
    "X_train, X_test, y_train, y_test = train_test_split(X, y,\n",
    "                                                    train_size=0.80, test_size=0.20)\n",
    "\n",
    "X_train, X_validate, y_train, y_validate = train_test_split(X_train, y_train,\n",
    "                                                    train_size=0.75, test_size=0.25)"
   ]
  },
  {
   "cell_type": "code",
   "execution_count": 8,
   "metadata": {},
   "outputs": [],
   "source": [
    "def rmse(pred, actual):\n",
    "    return np.sqrt(np.mean((pred - actual) ** 2))\n"
   ]
  },
  {
   "cell_type": "markdown",
   "metadata": {},
   "source": [
    "## 3) Train Model "
   ]
  },
  {
   "cell_type": "markdown",
   "metadata": {},
   "source": [
    "### 3.1 Is this a classification or regression problem? Why?"
   ]
  },
  {
   "cell_type": "markdown",
   "metadata": {},
   "source": [
    "This is a regression problem because we are predicting an outcome, the number of crimes a neighborhood will experience in a given month, from our input features. Here, we are not classifying anything or placing anything to one group or another. "
   ]
  },
  {
   "cell_type": "markdown",
   "metadata": {},
   "source": [
    "### 3.2 Choose 3 different machine learning/prediction techniques. Detail the basic logic underlying each, the pros and cons, whether it is parametric or non-parametric etc. Also discuss why it may be an appropriate choice for this particular problem?\n"
   ]
  },
  {
   "cell_type": "markdown",
   "metadata": {},
   "source": [
    "Linear Regression: Linear regression(LS) is a prediction technique where we \"minimize the sum of the squared difference between the observed target variable values and the predicted target variable values.\" In particular it draws a best fit line between the observed target variable and the predicted target variable using a set of features. Given that we use a set of features to make our predictions its obvious that LS is paramteric. The pros of using Linear Regression is that its pretty intuitive since our goal it to find the best fit line (y=mx+b). One of the cons is that this techniques is very dependent upon the mean, where a very large input or very small input (outlier) can skew our regression line towards that oulier. \n",
    "\n",
    "Ridge: In ridge regression we introduce a term to our loss function. With the added term we penalize large values in our parameters by introducing weights. By doing so, we are able to minimize our loss functionin order to get lower variance. But this comes with a consequence, where we will get higher bias. Another thing to note about ridge is that its able to deal with multicolinear data since its weights similar columns equally. Again, just like Linear Regression, Ridge is also parametric because we are using a set of features to predict the number of crimes.\n",
    "\n",
    "LASSO: LASSO Regression is similar to Ridge, in which we add a term to our loss function in order to penalize large values. Instead, LASSO penalizes the absolute value of each term. When using LASSO we are able to drop coefficeint to 0, where it is able to automatically perform feautre selection. This is particular useful when we have a lot of features in our data set and only need a subset of features.  Again, like Linear Regression and Ridge, LASSO is also parametric since we are using a set of features to conduct our predictions. \n",
    "\n",
    "All of the specified prediction techniques are approparite for this particular problem. We are trying to predict the number of crimes that occur in a particular neighborhood given a set of parameters/features. For one, all of the regression models are parametric and in this case we are using a set of featutres to be able to predict crime. In the case with Ridge and LASSO, we have introduced a parameter to penalize large values being able to enhance our predictive model. This is to say, Ridge and Lasso could better predict the number of crimes and reducing rmse.\n"
   ]
  },
  {
   "cell_type": "markdown",
   "metadata": {},
   "source": [
    "### 3.3 Train each of the models on your data, and report any relevant summary statistics. \n",
    "How well does each model fit the training data?"
   ]
  },
  {
   "cell_type": "code",
   "execution_count": 9,
   "metadata": {},
   "outputs": [],
   "source": [
    "def rmse(pred, actual):\n",
    "    return np.sqrt(np.mean((pred - actual) ** 2))"
   ]
  },
  {
   "cell_type": "code",
   "execution_count": 10,
   "metadata": {},
   "outputs": [
    {
     "data": {
      "image/png": "[encoded data removed]",
      "text/plain": [
       "<Figure size 432x288 with 1 Axes>"
      ]
     },
     "metadata": {},
     "output_type": "display_data"
    }
   ],
   "source": [
    "#LINEAR REGRESSION\n",
    "lin_reg = LinearRegression(normalize=True)\n",
    "# fit the model\n",
    "lin_model = lin_reg.fit(X_train, y_train)\n",
    "lin_pred = lin_model.predict(X_train)\n",
    "plt.scatter(y_train, lin_pred)\n",
    "plt.title('Linear Model (OLS)')\n",
    "plt.xlabel('actual value')\n",
    "plt.ylabel('predicted value')\n",
    "plt.show()"
   ]
  },
  {
   "cell_type": "code",
   "execution_count": 11,
   "metadata": {},
   "outputs": [
    {
     "data": {
      "text/plain": [
       "223.57235058778141"
      ]
     },
     "execution_count": 11,
     "metadata": {},
     "output_type": "execute_result"
    }
   ],
   "source": [
    "rmse(lin_pred, y_train)"
   ]
  },
  {
   "cell_type": "code",
   "execution_count": 12,
   "metadata": {},
   "outputs": [
    {
     "data": {
      "image/png": "[encoded data removed]",
      "text/plain": [
       "<Figure size 432x288 with 1 Axes>"
      ]
     },
     "metadata": {},
     "output_type": "display_data"
    }
   ],
   "source": [
    "#RIDGE REGRESSION\n",
    "ridge_reg = Ridge() \n",
    "ridge_model = ridge_reg.fit(X_train, y_train)\n",
    "ridge_pred = ridge_model.predict(X_train)\n",
    "plt.scatter(y_train, ridge_pred)\n",
    "plt.title('Ridge Model')\n",
    "plt.xlabel('actual values')\n",
    "plt.ylabel('predicted values')\n",
    "plt.show()"
   ]
  },
  {
   "cell_type": "code",
   "execution_count": 13,
   "metadata": {},
   "outputs": [
    {
     "data": {
      "text/plain": [
       "223.57248885975605"
      ]
     },
     "execution_count": 13,
     "metadata": {},
     "output_type": "execute_result"
    }
   ],
   "source": [
    "rmse(ridge_pred, y_train)"
   ]
  },
  {
   "cell_type": "code",
   "execution_count": 14,
   "metadata": {},
   "outputs": [
    {
     "name": "stderr",
     "output_type": "stream",
     "text": [
      "/Users/jarellymartin/anaconda3/lib/python3.8/site-packages/sklearn/linear_model/_coordinate_descent.py:529: ConvergenceWarning: Objective did not converge. You might want to increase the number of iterations. Duality gap: 538400013.5251548, tolerance: 339309.28748883225\n",
      "  model = cd_fast.enet_coordinate_descent(\n"
     ]
    },
    {
     "data": {
      "image/png": "[encoded data removed]",
      "text/plain": [
       "<Figure size 432x288 with 1 Axes>"
      ]
     },
     "metadata": {},
     "output_type": "display_data"
    }
   ],
   "source": [
    "#LASSO REGRESSION\n",
    "lasso_reg = Lasso(max_iter=10000)  \n",
    "lasso_model = lasso_reg.fit(X_train, y_train)\n",
    "lasso_pred = lasso_model.predict(X_train)\n",
    "plt.scatter(y_train, lasso_pred)\n",
    "plt.title('LASSO Model')\n",
    "plt.xlabel('actual values')\n",
    "plt.ylabel('predicted values')\n",
    "plt.show()"
   ]
  },
  {
   "cell_type": "code",
   "execution_count": 15,
   "metadata": {},
   "outputs": [
    {
     "data": {
      "text/plain": [
       "225.94389745806077"
      ]
     },
     "execution_count": 15,
     "metadata": {},
     "output_type": "execute_result"
    }
   ],
   "source": [
    "rmse(lasso_pred, y_train)"
   ]
  },
  {
   "cell_type": "markdown",
   "metadata": {},
   "source": [
    "### Validation"
   ]
  },
  {
   "cell_type": "code",
   "execution_count": 16,
   "metadata": {},
   "outputs": [],
   "source": [
    "lin_vpred = lin_model.predict(X_validate)\n",
    "ridge_vpred = ridge_model.predict(X_validate)\n",
    "lasso_vpred = lasso_model.predict(X_validate)"
   ]
  },
  {
   "cell_type": "code",
   "execution_count": 17,
   "metadata": {},
   "outputs": [
    {
     "name": "stdout",
     "output_type": "stream",
     "text": [
      "linear model rmse:  227.94384688044417\n",
      "Ridge rmse:  227.94325996504327\n",
      "LASSO rmse:  230.67260810404088\n"
     ]
    }
   ],
   "source": [
    "print(\"linear model rmse: \", rmse(lin_vpred, y_validate))\n",
    "print(\"Ridge rmse: \", rmse(ridge_vpred, y_validate))\n",
    "print(\"LASSO rmse: \", rmse(lasso_vpred, y_validate))"
   ]
  },
  {
   "cell_type": "code",
   "execution_count": 18,
   "metadata": {},
   "outputs": [
    {
     "data": {
      "text/plain": [
       "228.85323831650945"
      ]
     },
     "execution_count": 18,
     "metadata": {},
     "output_type": "execute_result"
    }
   ],
   "source": [
    "mean = [rmse(lin_vpred, y_validate),rmse(ridge_vpred, y_validate),rmse(lasso_vpred, y_validate)]\n",
    "np.mean(mean)"
   ]
  },
  {
   "cell_type": "markdown",
   "metadata": {},
   "source": [
    "### Picking a Model"
   ]
  },
  {
   "cell_type": "markdown",
   "metadata": {},
   "source": [
    "Based on our three models, they all have an rmse that is more less ~224 (will change everytime you run). But, Ridge happens to have the smallest rmse value during validation, so I picked this model in order to predict the number of crimes in our test set. This ouputted a rmse value of about 223, which is close to the rmse during validation."
   ]
  },
  {
   "cell_type": "code",
   "execution_count": 19,
   "metadata": {},
   "outputs": [
    {
     "name": "stdout",
     "output_type": "stream",
     "text": [
      "Test set rmse:  226.4611631258619\n"
     ]
    }
   ],
   "source": [
    "final_pred = ridge_model.predict(X_test)\n",
    "# calculate the rmse for the final predictions\n",
    "print('Test set rmse: ', rmse(final_pred, y_test))"
   ]
  }
 ],
 "metadata": {
  "kernelspec": {
   "display_name": "Python 3",
   "language": "python",
   "name": "python3"
  },
  "language_info": {
   "codemirror_mode": {
    "name": "ipython",
    "version": 3
   },
   "file_extension": ".py",
   "mimetype": "text/x-python",
   "name": "python",
   "nbconvert_exporter": "python",
   "pygments_lexer": "ipython3",
   "version": "3.8.5"
  }
 },
 "nbformat": 4,
 "nbformat_minor": 2
}
